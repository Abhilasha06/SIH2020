{
 "cells": [
  {
   "cell_type": "code",
   "execution_count": 1,
   "metadata": {},
   "outputs": [
    {
     "data": {
      "text/plain": [
       "-1"
      ]
     },
     "execution_count": 1,
     "metadata": {},
     "output_type": "execute_result"
    }
   ],
   "source": [
    "import tensorflow as tf\n",
    "import cv2 as cv\n",
    "\n",
    "with tf.gfile.FastGFile('frozen_inference_graph.pb', 'rb') as f:\n",
    "    graph_def = tf.GraphDef()\n",
    "    graph_def.ParseFromString(f.read())\n",
    "\n",
    "with tf.Session() as sess:\n",
    "    # Restore session\n",
    "    sess.graph.as_default()\n",
    "    tf.import_graph_def(graph_def, name='')\n",
    "\n",
    "    img = cv.imread('cow.jpg')\n",
    "    rows = img.shape[0]\n",
    "    cols = img.shape[1]\n",
    "    inp = cv.resize(img, (300, 300))\n",
    "    inp = inp[:, :, [2, 1, 0]]  \n",
    "\n",
    "    # Run the model\n",
    "    out = sess.run([sess.graph.get_tensor_by_name('num_detections:0'),\n",
    "                    sess.graph.get_tensor_by_name('detection_scores:0'),\n",
    "                    sess.graph.get_tensor_by_name('detection_boxes:0'),\n",
    "                    sess.graph.get_tensor_by_name('detection_classes:0')],\n",
    "                   feed_dict={'image_tensor:0': inp.reshape(1, inp.shape[0], inp.shape[1], 3)})\n",
    "    \n",
    "    # coco_dataset class 18 - Dog\n",
    "    # coco_dataset class 20 - Sheep\n",
    "    # coco_dataset class 21 - Cow\n",
    "\n",
    "    # Visualize detected bounding boxes.\n",
    "    num_detections = int(out[0][0])\n",
    "    dog_count = 0\n",
    "    sheep_count = 0\n",
    "    cow_count = 0\n",
    "    \n",
    "    for i in range(num_detections):\n",
    "        classId = int(out[3][0][i])\n",
    "        score = float(out[1][0][i])\n",
    "        bbox = [float(v) for v in out[2][0][i]]\n",
    "    \n",
    "        if score > 0.3:\n",
    "            if (classId == 18):\n",
    "                dog_count += 1\n",
    "            if (classId == 20):\n",
    "                sheep_count += 1\n",
    "            if (classId == 21):\n",
    "                cow_count += 1\n",
    "            x = bbox[1] * cols\n",
    "            y = bbox[0] * rows\n",
    "            right = bbox[3] * cols\n",
    "            bottom = bbox[2] * rows\n",
    "            cv.rectangle(img, (int(x), int(y)), (int(right), int(bottom)), (0, 0, 0), thickness=2)\n",
    "\n",
    "if (dog_count != 0):\n",
    "    label = 'No of dogs ' + str(dog_count)\n",
    "    cv.putText(img,label, (0,25), cv.FONT_HERSHEY_DUPLEX, 1, (0,255,0))\n",
    "if (sheep_count != 0):\n",
    "    label = 'No of sheeps ' + str(sheep_count)\n",
    "    cv.putText(img, label, (0,25), cv.FONT_HERSHEY_DUPLEX, 1, (0,0,255))\n",
    "if (cow_count != 0):\n",
    "    label = 'No of cows ' + str(cow_count)\n",
    "    cv.putText(img, label, (0,25), cv.FONT_HERSHEY_DUPLEX, 1, (255,255,0))\n",
    "    \n",
    "cv.imshow('Image', img)\n",
    "cv.waitKey()"
   ]
  },
  {
   "cell_type": "code",
   "execution_count": null,
   "metadata": {},
   "outputs": [],
   "source": []
  }
 ],
 "metadata": {
  "kernelspec": {
   "display_name": "Python 3",
   "language": "python",
   "name": "python3"
  },
  "language_info": {
   "codemirror_mode": {
    "name": "ipython",
    "version": 3
   },
   "file_extension": ".py",
   "mimetype": "text/x-python",
   "name": "python",
   "nbconvert_exporter": "python",
   "pygments_lexer": "ipython3",
   "version": "3.6.7"
  }
 },
 "nbformat": 4,
 "nbformat_minor": 2
}
